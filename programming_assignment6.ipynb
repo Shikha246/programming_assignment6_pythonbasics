{
 "cells": [
  {
   "cell_type": "markdown",
   "id": "4ee509a6",
   "metadata": {},
   "source": [
    "## 1. Write a Python Program to Display Fibonacci Sequence Using Recursion?"
   ]
  },
  {
   "cell_type": "code",
   "execution_count": 13,
   "id": "70a8fa83",
   "metadata": {},
   "outputs": [
    {
     "name": "stdout",
     "output_type": "stream",
     "text": [
      "Enter a number:5\n",
      "0\n",
      "1\n",
      "1\n",
      "2\n",
      "3\n"
     ]
    }
   ],
   "source": [
    "\n",
    "    \n",
    "def fibo(n):\n",
    "    if n==1:\n",
    "        return 0\n",
    "    elif n==2:\n",
    "        return 1\n",
    "    else:\n",
    "        return(fibo(n-1)+fibo(n-2))\n",
    "num =int(input(\"Enter a number:\"))\n",
    "for i in range(1,num+1):\n",
    "    print(fibo(i))"
   ]
  },
  {
   "cell_type": "markdown",
   "id": "e53111aa",
   "metadata": {},
   "source": [
    "## 2. Write a Python Program to Find Factorial of Number Using Recursion?"
   ]
  },
  {
   "cell_type": "code",
   "execution_count": 12,
   "id": "dbdc2f12",
   "metadata": {},
   "outputs": [
    {
     "name": "stdout",
     "output_type": "stream",
     "text": [
      "Enter a number to find the factorial:3\n",
      "6\n"
     ]
    }
   ],
   "source": [
    "def fact(n):\n",
    "    if n==0:\n",
    "        return 1\n",
    "    return n* fact(n-1)\n",
    "    \n",
    "    \n",
    "        \n",
    "num = int(input(\"Enter a number to find the factorial:\"))\n",
    "\n",
    "print(fact(num))"
   ]
  },
  {
   "cell_type": "markdown",
   "id": "e007be0d",
   "metadata": {},
   "source": [
    "## 3. Write a Python Program to calculate your Body Mass Index?"
   ]
  },
  {
   "cell_type": "code",
   "execution_count": 3,
   "id": "66225a0e",
   "metadata": {},
   "outputs": [
    {
     "name": "stdout",
     "output_type": "stream",
     "text": [
      "Enter your weight in kg:56\n",
      "Enter your height in m:1.56\n",
      "The BMI is 23\n"
     ]
    }
   ],
   "source": [
    "import math\n",
    "weight= float(input(\"Enter your weight in kg:\"))\n",
    "height= float(input(\"Enter your height in m:\"))\n",
    "bmi= weight/height**2\n",
    "print(f\"The BMI is {math.floor(bmi)}\")"
   ]
  },
  {
   "cell_type": "markdown",
   "id": "1c991f58",
   "metadata": {},
   "source": [
    "## 4. Write a Python Program to calculate the natural logarithm of any number?"
   ]
  },
  {
   "cell_type": "code",
   "execution_count": 6,
   "id": "a4c03139",
   "metadata": {},
   "outputs": [
    {
     "name": "stdout",
     "output_type": "stream",
     "text": [
      "Enter a number:10\n",
      "The natural logarithm of 10.0 is 2.302585092994046\n"
     ]
    }
   ],
   "source": [
    "import math\n",
    "num= float(input(\"Enter a number:\"))\n",
    "print(f\"The natural logarithm of {num} is {math.log(num)}\")"
   ]
  },
  {
   "cell_type": "markdown",
   "id": "221f18c7",
   "metadata": {},
   "source": [
    "## 5. Write a Python Program for cube sum of first n natural numbers?"
   ]
  },
  {
   "cell_type": "code",
   "execution_count": 4,
   "id": "afdaccf3",
   "metadata": {},
   "outputs": [
    {
     "name": "stdout",
     "output_type": "stream",
     "text": [
      "Enter a natural number:5\n",
      "The cube sum of 5 is 225 \n"
     ]
    }
   ],
   "source": [
    "num= int(input(\"Enter a natural number:\"))\n",
    "sum=0\n",
    "for i in range(1,num+1):\n",
    "    sum+=(i**3)\n",
    "print(f\"The cube sum of {num} is {sum} \")\n",
    "    "
   ]
  },
  {
   "cell_type": "code",
   "execution_count": null,
   "id": "fe660df5",
   "metadata": {},
   "outputs": [],
   "source": []
  }
 ],
 "metadata": {
  "kernelspec": {
   "display_name": "Python 3 (ipykernel)",
   "language": "python",
   "name": "python3"
  },
  "language_info": {
   "codemirror_mode": {
    "name": "ipython",
    "version": 3
   },
   "file_extension": ".py",
   "mimetype": "text/x-python",
   "name": "python",
   "nbconvert_exporter": "python",
   "pygments_lexer": "ipython3",
   "version": "3.9.7"
  }
 },
 "nbformat": 4,
 "nbformat_minor": 5
}
